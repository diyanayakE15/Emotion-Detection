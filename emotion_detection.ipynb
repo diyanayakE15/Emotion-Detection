{
 "cells": [
  {
   "cell_type": "code",
   "execution_count": 1,
   "id": "cf4bad0d-d118-4151-b86f-9312f4c355eb",
   "metadata": {},
   "outputs": [],
   "source": [
    "import tensorflow as tf\n",
    "from tensorflow.keras.utils import to_categorical\n",
    "from keras.preprocessing.image import load_img\n",
    "from keras.models import Sequential\n",
    "from keras.layers import Dense, Conv2D, Dropout, Flatten, MaxPooling2D\n",
    "import os\n",
    "import pandas as pd\n",
    "import numpy as np"
   ]
  },
  {
   "cell_type": "code",
   "execution_count": 2,
   "id": "abef4a98",
   "metadata": {},
   "outputs": [
    {
     "data": {
      "text/plain": [
       "[PhysicalDevice(name='/physical_device:CPU:0', device_type='CPU'),\n",
       " PhysicalDevice(name='/physical_device:GPU:0', device_type='GPU')]"
      ]
     },
     "execution_count": 2,
     "metadata": {},
     "output_type": "execute_result"
    }
   ],
   "source": [
    "tf.config.set_visible_devices(tf.config.list_physical_devices('GPU')[0], 'GPU')\n",
    "tf.config.list_physical_devices()"
   ]
  },
  {
   "cell_type": "code",
   "execution_count": 3,
   "id": "17854a99-95be-4abf-802b-2609ece8d78e",
   "metadata": {},
   "outputs": [],
   "source": [
    "TRAIN_DIR = 'images/train'\n",
    "TEST_DIR = 'images/test'"
   ]
  },
  {
   "cell_type": "code",
   "execution_count": 4,
   "id": "bdeb9c2d-3112-42a0-87c1-1cabab085ff0",
   "metadata": {},
   "outputs": [],
   "source": [
    "def createdataframe(dir):\n",
    "    image_paths = []\n",
    "    labels = []\n",
    "    for label in os.listdir(dir):\n",
    "        for imagename in os.listdir(os.path.join(dir,label)):\n",
    "            image_paths.append(os.path.join(dir,label,imagename))\n",
    "            labels.append(label)\n",
    "        print(label, \"completed\")\n",
    "    return image_paths,labels"
   ]
  },
  {
   "cell_type": "code",
   "execution_count": 5,
   "id": "6f8682f0-e677-4e1e-826f-d2926dc169f9",
   "metadata": {},
   "outputs": [
    {
     "name": "stdout",
     "output_type": "stream",
     "text": [
      "angry completed\n",
      "disgust completed\n",
      "fear completed\n",
      "happy completed\n",
      "neutral completed\n",
      "sad completed\n",
      "surprise completed\n"
     ]
    }
   ],
   "source": [
    "train = pd.DataFrame()\n",
    "train['image'], train['label'] = createdataframe(TRAIN_DIR)"
   ]
  },
  {
   "cell_type": "code",
   "execution_count": 6,
   "id": "2893dfd3-ee8c-4873-a12e-1efda3a0dd2e",
   "metadata": {},
   "outputs": [
    {
     "name": "stdout",
     "output_type": "stream",
     "text": [
      "                                             image     label\n",
      "0         images/train\\angry\\Training_10118481.jpg     angry\n",
      "1         images/train\\angry\\Training_10120469.jpg     angry\n",
      "2         images/train\\angry\\Training_10131352.jpg     angry\n",
      "3         images/train\\angry\\Training_10161559.jpg     angry\n",
      "4          images/train\\angry\\Training_1021836.jpg     angry\n",
      "...                                            ...       ...\n",
      "28704  images/train\\surprise\\Training_99916297.jpg  surprise\n",
      "28705  images/train\\surprise\\Training_99924420.jpg  surprise\n",
      "28706  images/train\\surprise\\Training_99937001.jpg  surprise\n",
      "28707  images/train\\surprise\\Training_99951755.jpg  surprise\n",
      "28708  images/train\\surprise\\Training_99984132.jpg  surprise\n",
      "\n",
      "[28709 rows x 2 columns]\n"
     ]
    }
   ],
   "source": [
    "print (train)"
   ]
  },
  {
   "cell_type": "code",
   "execution_count": 7,
   "id": "890c31ff-55e0-4ceb-b1db-9ba025ee9f73",
   "metadata": {},
   "outputs": [
    {
     "name": "stdout",
     "output_type": "stream",
     "text": [
      "angry completed\n",
      "disgust completed\n",
      "fear completed\n",
      "happy completed\n",
      "neutral completed\n",
      "sad completed\n",
      "surprise completed\n"
     ]
    }
   ],
   "source": [
    "test = pd.DataFrame()\n",
    "test['image'], test['label'] = createdataframe(TEST_DIR)"
   ]
  },
  {
   "cell_type": "code",
   "execution_count": 8,
   "id": "dbacf79f-e316-4387-95fd-dead72b58250",
   "metadata": {},
   "outputs": [
    {
     "name": "stdout",
     "output_type": "stream",
     "text": [
      "                                             image     label\n",
      "0       images/test\\angry\\PrivateTest_10131363.jpg     angry\n",
      "1       images/test\\angry\\PrivateTest_10304478.jpg     angry\n",
      "2        images/test\\angry\\PrivateTest_1054527.jpg     angry\n",
      "3       images/test\\angry\\PrivateTest_10590091.jpg     angry\n",
      "4        images/test\\angry\\PrivateTest_1109992.jpg     angry\n",
      "...                                            ...       ...\n",
      "7173  images/test\\surprise\\PublicTest_98089595.jpg  surprise\n",
      "7174  images/test\\surprise\\PublicTest_98567249.jpg  surprise\n",
      "7175  images/test\\surprise\\PublicTest_98972870.jpg  surprise\n",
      "7176  images/test\\surprise\\PublicTest_99242645.jpg  surprise\n",
      "7177  images/test\\surprise\\PublicTest_99446963.jpg  surprise\n",
      "\n",
      "[7178 rows x 2 columns]\n",
      "0         images/test\\angry\\PrivateTest_10131363.jpg\n",
      "1         images/test\\angry\\PrivateTest_10304478.jpg\n",
      "2          images/test\\angry\\PrivateTest_1054527.jpg\n",
      "3         images/test\\angry\\PrivateTest_10590091.jpg\n",
      "4          images/test\\angry\\PrivateTest_1109992.jpg\n",
      "                            ...                     \n",
      "7173    images/test\\surprise\\PublicTest_98089595.jpg\n",
      "7174    images/test\\surprise\\PublicTest_98567249.jpg\n",
      "7175    images/test\\surprise\\PublicTest_98972870.jpg\n",
      "7176    images/test\\surprise\\PublicTest_99242645.jpg\n",
      "7177    images/test\\surprise\\PublicTest_99446963.jpg\n",
      "Name: image, Length: 7178, dtype: object\n"
     ]
    }
   ],
   "source": [
    "print(test)\n",
    "print(test['image'])"
   ]
  },
  {
   "cell_type": "code",
   "execution_count": 9,
   "id": "0cbc0865-18d7-4a43-b1e1-717bd5175e6d",
   "metadata": {},
   "outputs": [],
   "source": [
    "from tqdm.notebook import tqdm\n",
    "def extract_features(images):\n",
    "    features = []\n",
    "    for image in tqdm(images):\n",
    "        img = load_img(image, color_mode='grayscale' )\n",
    "        img = np.array(img)\n",
    "        features.append(img)\n",
    "    features = np.array(features)\n",
    "    features = features.reshape(len(features),48,48,1)\n",
    "    return features\n",
    "    "
   ]
  },
  {
   "cell_type": "code",
   "execution_count": 10,
   "id": "d7e168d7",
   "metadata": {},
   "outputs": [],
   "source": [
    "from tensorflow import keras\n",
    "from tensorflow.keras import layers\n",
    "from tensorflow.keras.models import Sequential\n",
    "\n",
    "data_augmentation = keras.Sequential(\n",
    "  [\n",
    "    layers.RandomFlip(\"horizontal\", input_shape = (100, 100, 3)),\n",
    "    layers.RandomRotation(0.1),\n",
    "    layers.RandomZoom(0.1),\n",
    "  ]\n",
    ")"
   ]
  },
  {
   "cell_type": "code",
   "execution_count": 11,
   "id": "233a30b1-d21c-417c-b93c-eea9d687eac9",
   "metadata": {},
   "outputs": [
    {
     "data": {
      "application/vnd.jupyter.widget-view+json": {
       "model_id": "ee1625ba480248b6af10e9a2c38b2af7",
       "version_major": 2,
       "version_minor": 0
      },
      "text/plain": [
       "  0%|          | 0/28709 [00:00<?, ?it/s]"
      ]
     },
     "metadata": {},
     "output_type": "display_data"
    }
   ],
   "source": [
    "train_features = extract_features(train['image']) "
   ]
  },
  {
   "cell_type": "code",
   "execution_count": 12,
   "id": "7bdcffd9-ff7b-409c-9f39-55d0a3a76d1b",
   "metadata": {},
   "outputs": [
    {
     "data": {
      "application/vnd.jupyter.widget-view+json": {
       "model_id": "1a33ab006236461f8c5801cac0aa38b5",
       "version_major": 2,
       "version_minor": 0
      },
      "text/plain": [
       "  0%|          | 0/7178 [00:00<?, ?it/s]"
      ]
     },
     "metadata": {},
     "output_type": "display_data"
    }
   ],
   "source": [
    "test_features = extract_features(test['image'])"
   ]
  },
  {
   "cell_type": "code",
   "execution_count": 13,
   "id": "d2db39eb-746e-4706-bd66-9f03b6c2bd06",
   "metadata": {},
   "outputs": [],
   "source": [
    "x_train = train_features/255.0\n",
    "x_test = test_features/255.0"
   ]
  },
  {
   "cell_type": "code",
   "execution_count": 14,
   "id": "888ece59-0b30-419b-9843-2a8a9766122a",
   "metadata": {},
   "outputs": [
    {
     "data": {
      "text/html": [
       "<style>#sk-container-id-1 {color: black;background-color: white;}#sk-container-id-1 pre{padding: 0;}#sk-container-id-1 div.sk-toggleable {background-color: white;}#sk-container-id-1 label.sk-toggleable__label {cursor: pointer;display: block;width: 100%;margin-bottom: 0;padding: 0.3em;box-sizing: border-box;text-align: center;}#sk-container-id-1 label.sk-toggleable__label-arrow:before {content: \"▸\";float: left;margin-right: 0.25em;color: #696969;}#sk-container-id-1 label.sk-toggleable__label-arrow:hover:before {color: black;}#sk-container-id-1 div.sk-estimator:hover label.sk-toggleable__label-arrow:before {color: black;}#sk-container-id-1 div.sk-toggleable__content {max-height: 0;max-width: 0;overflow: hidden;text-align: left;background-color: #f0f8ff;}#sk-container-id-1 div.sk-toggleable__content pre {margin: 0.2em;color: black;border-radius: 0.25em;background-color: #f0f8ff;}#sk-container-id-1 input.sk-toggleable__control:checked~div.sk-toggleable__content {max-height: 200px;max-width: 100%;overflow: auto;}#sk-container-id-1 input.sk-toggleable__control:checked~label.sk-toggleable__label-arrow:before {content: \"▾\";}#sk-container-id-1 div.sk-estimator input.sk-toggleable__control:checked~label.sk-toggleable__label {background-color: #d4ebff;}#sk-container-id-1 div.sk-label input.sk-toggleable__control:checked~label.sk-toggleable__label {background-color: #d4ebff;}#sk-container-id-1 input.sk-hidden--visually {border: 0;clip: rect(1px 1px 1px 1px);clip: rect(1px, 1px, 1px, 1px);height: 1px;margin: -1px;overflow: hidden;padding: 0;position: absolute;width: 1px;}#sk-container-id-1 div.sk-estimator {font-family: monospace;background-color: #f0f8ff;border: 1px dotted black;border-radius: 0.25em;box-sizing: border-box;margin-bottom: 0.5em;}#sk-container-id-1 div.sk-estimator:hover {background-color: #d4ebff;}#sk-container-id-1 div.sk-parallel-item::after {content: \"\";width: 100%;border-bottom: 1px solid gray;flex-grow: 1;}#sk-container-id-1 div.sk-label:hover label.sk-toggleable__label {background-color: #d4ebff;}#sk-container-id-1 div.sk-serial::before {content: \"\";position: absolute;border-left: 1px solid gray;box-sizing: border-box;top: 0;bottom: 0;left: 50%;z-index: 0;}#sk-container-id-1 div.sk-serial {display: flex;flex-direction: column;align-items: center;background-color: white;padding-right: 0.2em;padding-left: 0.2em;position: relative;}#sk-container-id-1 div.sk-item {position: relative;z-index: 1;}#sk-container-id-1 div.sk-parallel {display: flex;align-items: stretch;justify-content: center;background-color: white;position: relative;}#sk-container-id-1 div.sk-item::before, #sk-container-id-1 div.sk-parallel-item::before {content: \"\";position: absolute;border-left: 1px solid gray;box-sizing: border-box;top: 0;bottom: 0;left: 50%;z-index: -1;}#sk-container-id-1 div.sk-parallel-item {display: flex;flex-direction: column;z-index: 1;position: relative;background-color: white;}#sk-container-id-1 div.sk-parallel-item:first-child::after {align-self: flex-end;width: 50%;}#sk-container-id-1 div.sk-parallel-item:last-child::after {align-self: flex-start;width: 50%;}#sk-container-id-1 div.sk-parallel-item:only-child::after {width: 0;}#sk-container-id-1 div.sk-dashed-wrapped {border: 1px dashed gray;margin: 0 0.4em 0.5em 0.4em;box-sizing: border-box;padding-bottom: 0.4em;background-color: white;}#sk-container-id-1 div.sk-label label {font-family: monospace;font-weight: bold;display: inline-block;line-height: 1.2em;}#sk-container-id-1 div.sk-label-container {text-align: center;}#sk-container-id-1 div.sk-container {/* jupyter's `normalize.less` sets `[hidden] { display: none; }` but bootstrap.min.css set `[hidden] { display: none !important; }` so we also need the `!important` here to be able to override the default hidden behavior on the sphinx rendered scikit-learn.org. See: https://github.com/scikit-learn/scikit-learn/issues/21755 */display: inline-block !important;position: relative;}#sk-container-id-1 div.sk-text-repr-fallback {display: none;}</style><div id=\"sk-container-id-1\" class=\"sk-top-container\"><div class=\"sk-text-repr-fallback\"><pre>LabelEncoder()</pre><b>In a Jupyter environment, please rerun this cell to show the HTML representation or trust the notebook. <br />On GitHub, the HTML representation is unable to render, please try loading this page with nbviewer.org.</b></div><div class=\"sk-container\" hidden><div class=\"sk-item\"><div class=\"sk-estimator sk-toggleable\"><input class=\"sk-toggleable__control sk-hidden--visually\" id=\"sk-estimator-id-1\" type=\"checkbox\" checked><label for=\"sk-estimator-id-1\" class=\"sk-toggleable__label sk-toggleable__label-arrow\">LabelEncoder</label><div class=\"sk-toggleable__content\"><pre>LabelEncoder()</pre></div></div></div></div></div>"
      ],
      "text/plain": [
       "LabelEncoder()"
      ]
     },
     "execution_count": 14,
     "metadata": {},
     "output_type": "execute_result"
    }
   ],
   "source": [
    "from sklearn.preprocessing import LabelEncoder\n",
    "le = LabelEncoder()\n",
    "le.fit(train['label'])"
   ]
  },
  {
   "cell_type": "code",
   "execution_count": 15,
   "id": "355e0391-0731-4dd1-9f40-de1581fa9198",
   "metadata": {},
   "outputs": [],
   "source": [
    "y_train = le.transform(train['label'])\n",
    "y_test = le.transform(test['label'])"
   ]
  },
  {
   "cell_type": "code",
   "execution_count": 16,
   "id": "ceec8278-5298-4b9c-8728-01ee3d399dd9",
   "metadata": {},
   "outputs": [],
   "source": [
    "y_train = to_categorical(y_train,num_classes = 7)\n",
    "y_test = to_categorical(y_test,num_classes = 7)"
   ]
  },
  {
   "cell_type": "code",
   "execution_count": 17,
   "id": "0f12c347-c082-4923-a172-db4c377505db",
   "metadata": {},
   "outputs": [],
   "source": [
    "model = Sequential()\n",
    "# convolutional layers\n",
    "data_augmentation,\n",
    "model.add(Conv2D(128, kernel_size=(3,3), activation='relu', input_shape=(48,48,1)))\n",
    "model.add(MaxPooling2D(pool_size=(2,2)))\n",
    "model.add(Dropout(0.4))\n",
    "\n",
    "model.add(Conv2D(256, kernel_size=(3,3), activation='relu'))\n",
    "model.add(MaxPooling2D(pool_size=(2,2)))\n",
    "model.add(Dropout(0.4))\n",
    "\n",
    "model.add(Conv2D(512, kernel_size=(3,3), activation='relu'))\n",
    "model.add(MaxPooling2D(pool_size=(2,2)))\n",
    "model.add(Dropout(0.4))\n",
    "\n",
    "model.add(Conv2D(512, kernel_size=(3,3), activation='relu'))\n",
    "model.add(MaxPooling2D(pool_size=(2,2)))\n",
    "model.add(Dropout(0.4))\n",
    "\n",
    "model.add(Flatten())\n",
    "# fully connected layers\n",
    "model.add(Dense(512, activation='relu'))\n",
    "model.add(Dropout(0.4))\n",
    "model.add(Dense(256, activation='relu'))\n",
    "model.add(Dropout(0.3))\n",
    "# output layer\n",
    "model.add(Dense(7, activation='softmax'))"
   ]
  },
  {
   "cell_type": "code",
   "execution_count": 33,
   "id": "199b2721-4629-417f-8ccc-0f5bfde0c8ba",
   "metadata": {},
   "outputs": [],
   "source": [
    "model.compile(optimizer='adam', loss='categorical_crossentropy', metrics=['accuracy'])"
   ]
  },
  {
   "cell_type": "code",
   "execution_count": 34,
   "id": "13232a32-82b8-4acd-955b-afdf6e9d5ce4",
   "metadata": {},
   "outputs": [
    {
     "name": "stdout",
     "output_type": "stream",
     "text": [
      "Epoch 1/100\n",
      "225/225 [==============================] - 24s 103ms/step - loss: 1.2893 - accuracy: 0.5061 - val_loss: 1.1894 - val_accuracy: 0.5430\n",
      "Epoch 2/100\n",
      "225/225 [==============================] - 23s 101ms/step - loss: 1.2773 - accuracy: 0.5120 - val_loss: 1.1877 - val_accuracy: 0.5428\n",
      "Epoch 3/100\n",
      "225/225 [==============================] - 22s 100ms/step - loss: 1.2588 - accuracy: 0.5185 - val_loss: 1.1802 - val_accuracy: 0.5453\n",
      "Epoch 4/100\n",
      "225/225 [==============================] - 22s 100ms/step - loss: 1.2392 - accuracy: 0.5261 - val_loss: 1.1556 - val_accuracy: 0.5568\n",
      "Epoch 5/100\n",
      "225/225 [==============================] - 23s 100ms/step - loss: 1.2239 - accuracy: 0.5351 - val_loss: 1.1550 - val_accuracy: 0.5568\n",
      "Epoch 6/100\n",
      "225/225 [==============================] - 22s 100ms/step - loss: 1.2111 - accuracy: 0.5399 - val_loss: 1.1393 - val_accuracy: 0.5652\n",
      "Epoch 7/100\n",
      "225/225 [==============================] - 22s 100ms/step - loss: 1.2009 - accuracy: 0.5459 - val_loss: 1.1254 - val_accuracy: 0.5658\n",
      "Epoch 8/100\n",
      "225/225 [==============================] - 22s 100ms/step - loss: 1.1893 - accuracy: 0.5484 - val_loss: 1.1190 - val_accuracy: 0.5704\n",
      "Epoch 9/100\n",
      "225/225 [==============================] - 23s 101ms/step - loss: 1.1685 - accuracy: 0.5578 - val_loss: 1.1250 - val_accuracy: 0.5722\n",
      "Epoch 10/100\n",
      "225/225 [==============================] - 23s 100ms/step - loss: 1.1693 - accuracy: 0.5563 - val_loss: 1.1189 - val_accuracy: 0.5713\n",
      "Epoch 11/100\n",
      "225/225 [==============================] - 23s 102ms/step - loss: 1.1593 - accuracy: 0.5593 - val_loss: 1.1047 - val_accuracy: 0.5784\n",
      "Epoch 12/100\n",
      "225/225 [==============================] - 23s 101ms/step - loss: 1.1533 - accuracy: 0.5650 - val_loss: 1.0879 - val_accuracy: 0.5829\n",
      "Epoch 13/100\n",
      "225/225 [==============================] - 23s 101ms/step - loss: 1.1392 - accuracy: 0.5692 - val_loss: 1.0836 - val_accuracy: 0.5899\n",
      "Epoch 14/100\n",
      "225/225 [==============================] - 23s 101ms/step - loss: 1.1223 - accuracy: 0.5736 - val_loss: 1.0760 - val_accuracy: 0.5861\n",
      "Epoch 15/100\n",
      "225/225 [==============================] - 23s 101ms/step - loss: 1.1216 - accuracy: 0.5733 - val_loss: 1.0792 - val_accuracy: 0.5869\n",
      "Epoch 16/100\n",
      "225/225 [==============================] - 23s 101ms/step - loss: 1.1103 - accuracy: 0.5792 - val_loss: 1.0793 - val_accuracy: 0.5887\n",
      "Epoch 17/100\n",
      "225/225 [==============================] - 23s 101ms/step - loss: 1.0985 - accuracy: 0.5832 - val_loss: 1.0700 - val_accuracy: 0.5862\n",
      "Epoch 18/100\n",
      "225/225 [==============================] - 23s 100ms/step - loss: 1.0932 - accuracy: 0.5900 - val_loss: 1.0670 - val_accuracy: 0.5871\n",
      "Epoch 19/100\n",
      "225/225 [==============================] - 23s 100ms/step - loss: 1.0863 - accuracy: 0.5894 - val_loss: 1.0642 - val_accuracy: 0.5981\n",
      "Epoch 20/100\n",
      "225/225 [==============================] - 22s 100ms/step - loss: 1.0771 - accuracy: 0.5920 - val_loss: 1.0635 - val_accuracy: 0.5945\n",
      "Epoch 21/100\n",
      "225/225 [==============================] - 22s 100ms/step - loss: 1.0660 - accuracy: 0.5961 - val_loss: 1.0571 - val_accuracy: 0.5978\n",
      "Epoch 22/100\n",
      "225/225 [==============================] - 22s 100ms/step - loss: 1.0603 - accuracy: 0.5991 - val_loss: 1.0516 - val_accuracy: 0.6000\n",
      "Epoch 23/100\n",
      "225/225 [==============================] - 23s 100ms/step - loss: 1.0556 - accuracy: 0.5988 - val_loss: 1.0476 - val_accuracy: 0.6014\n",
      "Epoch 24/100\n",
      "225/225 [==============================] - 22s 100ms/step - loss: 1.0497 - accuracy: 0.6050 - val_loss: 1.0506 - val_accuracy: 0.6060\n",
      "Epoch 25/100\n",
      "225/225 [==============================] - 22s 100ms/step - loss: 1.0451 - accuracy: 0.6067 - val_loss: 1.0522 - val_accuracy: 0.6057\n",
      "Epoch 26/100\n",
      "225/225 [==============================] - 23s 100ms/step - loss: 1.0369 - accuracy: 0.6099 - val_loss: 1.0550 - val_accuracy: 0.5954\n",
      "Epoch 27/100\n",
      "225/225 [==============================] - 22s 100ms/step - loss: 1.0201 - accuracy: 0.6164 - val_loss: 1.0543 - val_accuracy: 0.6011\n",
      "Epoch 28/100\n",
      "225/225 [==============================] - 22s 100ms/step - loss: 1.0194 - accuracy: 0.6162 - val_loss: 1.0521 - val_accuracy: 0.6023\n",
      "Epoch 29/100\n",
      "225/225 [==============================] - 23s 101ms/step - loss: 1.0165 - accuracy: 0.6182 - val_loss: 1.0505 - val_accuracy: 0.6069\n",
      "Epoch 30/100\n",
      "225/225 [==============================] - 23s 100ms/step - loss: 1.0065 - accuracy: 0.6228 - val_loss: 1.0516 - val_accuracy: 0.6069\n",
      "Epoch 31/100\n",
      "225/225 [==============================] - 23s 101ms/step - loss: 1.0074 - accuracy: 0.6248 - val_loss: 1.0425 - val_accuracy: 0.6023\n",
      "Epoch 32/100\n",
      "225/225 [==============================] - 23s 100ms/step - loss: 0.9967 - accuracy: 0.6279 - val_loss: 1.0357 - val_accuracy: 0.6123\n",
      "Epoch 33/100\n",
      "225/225 [==============================] - 23s 100ms/step - loss: 0.9911 - accuracy: 0.6275 - val_loss: 1.0322 - val_accuracy: 0.6141\n",
      "Epoch 34/100\n",
      "225/225 [==============================] - 23s 101ms/step - loss: 0.9836 - accuracy: 0.6326 - val_loss: 1.0351 - val_accuracy: 0.6126\n",
      "Epoch 35/100\n",
      "225/225 [==============================] - 23s 100ms/step - loss: 0.9744 - accuracy: 0.6357 - val_loss: 1.0393 - val_accuracy: 0.6074\n",
      "Epoch 36/100\n",
      "225/225 [==============================] - 23s 100ms/step - loss: 0.9739 - accuracy: 0.6366 - val_loss: 1.0444 - val_accuracy: 0.6082\n",
      "Epoch 37/100\n",
      "225/225 [==============================] - 23s 101ms/step - loss: 0.9653 - accuracy: 0.6378 - val_loss: 1.0308 - val_accuracy: 0.6162\n",
      "Epoch 38/100\n",
      "225/225 [==============================] - 23s 101ms/step - loss: 0.9645 - accuracy: 0.6369 - val_loss: 1.0316 - val_accuracy: 0.6154\n",
      "Epoch 39/100\n",
      "225/225 [==============================] - 23s 101ms/step - loss: 0.9496 - accuracy: 0.6425 - val_loss: 1.0287 - val_accuracy: 0.6167\n",
      "Epoch 40/100\n",
      "225/225 [==============================] - 23s 101ms/step - loss: 0.9442 - accuracy: 0.6462 - val_loss: 1.0413 - val_accuracy: 0.6074\n",
      "Epoch 41/100\n",
      "225/225 [==============================] - 23s 100ms/step - loss: 0.9361 - accuracy: 0.6501 - val_loss: 1.0449 - val_accuracy: 0.6140\n",
      "Epoch 42/100\n",
      "225/225 [==============================] - 23s 101ms/step - loss: 0.9347 - accuracy: 0.6525 - val_loss: 1.0414 - val_accuracy: 0.6158\n",
      "Epoch 43/100\n",
      "225/225 [==============================] - 23s 101ms/step - loss: 0.9369 - accuracy: 0.6507 - val_loss: 1.0313 - val_accuracy: 0.6154\n",
      "Epoch 44/100\n",
      "225/225 [==============================] - 23s 102ms/step - loss: 0.9250 - accuracy: 0.6553 - val_loss: 1.0310 - val_accuracy: 0.6226\n",
      "Epoch 45/100\n",
      "225/225 [==============================] - 23s 101ms/step - loss: 0.9165 - accuracy: 0.6604 - val_loss: 1.0238 - val_accuracy: 0.6163\n",
      "Epoch 46/100\n",
      "225/225 [==============================] - 23s 103ms/step - loss: 0.9229 - accuracy: 0.6554 - val_loss: 1.0314 - val_accuracy: 0.6167\n",
      "Epoch 47/100\n",
      "225/225 [==============================] - 23s 101ms/step - loss: 0.9113 - accuracy: 0.6608 - val_loss: 1.0211 - val_accuracy: 0.6234\n",
      "Epoch 48/100\n",
      "225/225 [==============================] - 22s 100ms/step - loss: 0.9015 - accuracy: 0.6652 - val_loss: 1.0269 - val_accuracy: 0.6169\n",
      "Epoch 49/100\n",
      "225/225 [==============================] - 22s 100ms/step - loss: 0.8958 - accuracy: 0.6712 - val_loss: 1.0215 - val_accuracy: 0.6202\n",
      "Epoch 50/100\n",
      "225/225 [==============================] - 23s 100ms/step - loss: 0.8920 - accuracy: 0.6673 - val_loss: 1.0305 - val_accuracy: 0.6169\n",
      "Epoch 51/100\n",
      "225/225 [==============================] - 22s 100ms/step - loss: 0.8889 - accuracy: 0.6692 - val_loss: 1.0327 - val_accuracy: 0.6199\n",
      "Epoch 52/100\n",
      "225/225 [==============================] - 26s 114ms/step - loss: 0.8807 - accuracy: 0.6745 - val_loss: 1.0337 - val_accuracy: 0.6205\n",
      "Epoch 53/100\n",
      "225/225 [==============================] - 28s 123ms/step - loss: 0.8802 - accuracy: 0.6725 - val_loss: 1.0137 - val_accuracy: 0.6282\n",
      "Epoch 54/100\n",
      "225/225 [==============================] - 27s 121ms/step - loss: 0.8748 - accuracy: 0.6759 - val_loss: 1.0214 - val_accuracy: 0.6244\n",
      "Epoch 55/100\n",
      "225/225 [==============================] - 27s 121ms/step - loss: 0.8635 - accuracy: 0.6790 - val_loss: 1.0268 - val_accuracy: 0.6216\n",
      "Epoch 56/100\n",
      "225/225 [==============================] - 27s 121ms/step - loss: 0.8603 - accuracy: 0.6830 - val_loss: 1.0139 - val_accuracy: 0.6297\n",
      "Epoch 57/100\n",
      "225/225 [==============================] - 27s 121ms/step - loss: 0.8670 - accuracy: 0.6783 - val_loss: 1.0312 - val_accuracy: 0.6202\n",
      "Epoch 58/100\n",
      "225/225 [==============================] - 27s 121ms/step - loss: 0.8594 - accuracy: 0.6851 - val_loss: 1.0172 - val_accuracy: 0.6225\n",
      "Epoch 59/100\n",
      "225/225 [==============================] - 27s 121ms/step - loss: 0.8514 - accuracy: 0.6857 - val_loss: 1.0357 - val_accuracy: 0.6170\n",
      "Epoch 60/100\n",
      "225/225 [==============================] - 27s 121ms/step - loss: 0.8556 - accuracy: 0.6874 - val_loss: 1.0308 - val_accuracy: 0.6134\n",
      "Epoch 61/100\n",
      "225/225 [==============================] - 27s 121ms/step - loss: 0.8483 - accuracy: 0.6839 - val_loss: 1.0229 - val_accuracy: 0.6279\n",
      "Epoch 62/100\n",
      "225/225 [==============================] - 29s 127ms/step - loss: 0.8410 - accuracy: 0.6895 - val_loss: 1.0335 - val_accuracy: 0.6239\n",
      "Epoch 63/100\n",
      "225/225 [==============================] - 27s 121ms/step - loss: 0.8354 - accuracy: 0.6894 - val_loss: 1.0187 - val_accuracy: 0.6275\n",
      "Epoch 64/100\n",
      "225/225 [==============================] - 27s 121ms/step - loss: 0.8315 - accuracy: 0.6942 - val_loss: 1.0178 - val_accuracy: 0.6307\n",
      "Epoch 65/100\n",
      "225/225 [==============================] - 29s 130ms/step - loss: 0.8304 - accuracy: 0.6958 - val_loss: 1.0193 - val_accuracy: 0.6298\n",
      "Epoch 66/100\n",
      "225/225 [==============================] - 27s 121ms/step - loss: 0.8261 - accuracy: 0.6962 - val_loss: 1.0330 - val_accuracy: 0.6278\n",
      "Epoch 67/100\n",
      "225/225 [==============================] - 27s 122ms/step - loss: 0.8255 - accuracy: 0.6930 - val_loss: 1.0208 - val_accuracy: 0.6311\n",
      "Epoch 68/100\n",
      "225/225 [==============================] - 28s 123ms/step - loss: 0.8137 - accuracy: 0.6994 - val_loss: 1.0201 - val_accuracy: 0.6311\n",
      "Epoch 69/100\n",
      "225/225 [==============================] - 28s 125ms/step - loss: 0.8128 - accuracy: 0.7057 - val_loss: 1.0222 - val_accuracy: 0.6347\n",
      "Epoch 70/100\n",
      "225/225 [==============================] - 28s 123ms/step - loss: 0.8107 - accuracy: 0.7030 - val_loss: 1.0200 - val_accuracy: 0.6280\n",
      "Epoch 71/100\n",
      "225/225 [==============================] - 28s 123ms/step - loss: 0.7989 - accuracy: 0.7053 - val_loss: 1.0200 - val_accuracy: 0.6289\n",
      "Epoch 72/100\n",
      "225/225 [==============================] - 29s 127ms/step - loss: 0.8015 - accuracy: 0.7056 - val_loss: 1.0188 - val_accuracy: 0.6294\n",
      "Epoch 73/100\n",
      "225/225 [==============================] - 27s 121ms/step - loss: 0.7950 - accuracy: 0.7119 - val_loss: 1.0325 - val_accuracy: 0.6307\n",
      "Epoch 74/100\n",
      "225/225 [==============================] - 27s 121ms/step - loss: 0.7917 - accuracy: 0.7131 - val_loss: 1.0177 - val_accuracy: 0.6332\n",
      "Epoch 75/100\n",
      "225/225 [==============================] - 27s 122ms/step - loss: 0.7811 - accuracy: 0.7124 - val_loss: 1.0382 - val_accuracy: 0.6311\n",
      "Epoch 76/100\n",
      "225/225 [==============================] - 28s 125ms/step - loss: 0.7894 - accuracy: 0.7115 - val_loss: 1.0227 - val_accuracy: 0.6303\n",
      "Epoch 77/100\n",
      "225/225 [==============================] - 28s 125ms/step - loss: 0.7839 - accuracy: 0.7141 - val_loss: 1.0329 - val_accuracy: 0.6304\n",
      "Epoch 78/100\n",
      "225/225 [==============================] - 27s 121ms/step - loss: 0.7779 - accuracy: 0.7196 - val_loss: 1.0281 - val_accuracy: 0.6325\n",
      "Epoch 79/100\n",
      "225/225 [==============================] - 27s 121ms/step - loss: 0.7737 - accuracy: 0.7167 - val_loss: 1.0302 - val_accuracy: 0.6304\n",
      "Epoch 80/100\n",
      "225/225 [==============================] - 27s 121ms/step - loss: 0.7641 - accuracy: 0.7198 - val_loss: 1.0520 - val_accuracy: 0.6219\n",
      "Epoch 81/100\n",
      "225/225 [==============================] - 27s 121ms/step - loss: 0.7682 - accuracy: 0.7186 - val_loss: 1.0331 - val_accuracy: 0.6361\n",
      "Epoch 82/100\n",
      "225/225 [==============================] - 27s 120ms/step - loss: 0.7649 - accuracy: 0.7216 - val_loss: 1.0232 - val_accuracy: 0.6340\n",
      "Epoch 83/100\n",
      "225/225 [==============================] - 27s 120ms/step - loss: 0.7568 - accuracy: 0.7221 - val_loss: 1.0285 - val_accuracy: 0.6344\n",
      "Epoch 84/100\n",
      "225/225 [==============================] - 27s 122ms/step - loss: 0.7486 - accuracy: 0.7256 - val_loss: 1.0457 - val_accuracy: 0.6333\n",
      "Epoch 85/100\n",
      "225/225 [==============================] - 27s 121ms/step - loss: 0.7486 - accuracy: 0.7286 - val_loss: 1.0225 - val_accuracy: 0.6333\n",
      "Epoch 86/100\n",
      "225/225 [==============================] - 29s 127ms/step - loss: 0.7594 - accuracy: 0.7235 - val_loss: 1.0444 - val_accuracy: 0.6351\n",
      "Epoch 87/100\n",
      "225/225 [==============================] - 27s 122ms/step - loss: 0.7385 - accuracy: 0.7303 - val_loss: 1.0279 - val_accuracy: 0.6346\n",
      "Epoch 88/100\n",
      "225/225 [==============================] - 27s 121ms/step - loss: 0.7405 - accuracy: 0.7342 - val_loss: 1.0208 - val_accuracy: 0.6326\n",
      "Epoch 89/100\n",
      "225/225 [==============================] - 27s 121ms/step - loss: 0.7501 - accuracy: 0.7280 - val_loss: 1.0241 - val_accuracy: 0.6333\n",
      "Epoch 90/100\n",
      "225/225 [==============================] - 29s 128ms/step - loss: 0.7422 - accuracy: 0.7317 - val_loss: 1.0323 - val_accuracy: 0.6347\n",
      "Epoch 91/100\n",
      "225/225 [==============================] - 28s 123ms/step - loss: 0.7325 - accuracy: 0.7342 - val_loss: 1.0383 - val_accuracy: 0.6365\n",
      "Epoch 92/100\n",
      "225/225 [==============================] - 27s 121ms/step - loss: 0.7339 - accuracy: 0.7372 - val_loss: 1.0257 - val_accuracy: 0.6372\n",
      "Epoch 93/100\n",
      "225/225 [==============================] - 27s 121ms/step - loss: 0.7210 - accuracy: 0.7385 - val_loss: 1.0256 - val_accuracy: 0.6421\n",
      "Epoch 94/100\n",
      "225/225 [==============================] - 27s 122ms/step - loss: 0.7226 - accuracy: 0.7381 - val_loss: 1.0279 - val_accuracy: 0.6407\n",
      "Epoch 95/100\n",
      "225/225 [==============================] - 28s 124ms/step - loss: 0.7236 - accuracy: 0.7397 - val_loss: 1.0297 - val_accuracy: 0.6375\n",
      "Epoch 96/100\n",
      "225/225 [==============================] - 28s 124ms/step - loss: 0.7239 - accuracy: 0.7360 - val_loss: 1.0241 - val_accuracy: 0.6403\n",
      "Epoch 97/100\n",
      "225/225 [==============================] - 28s 123ms/step - loss: 0.7132 - accuracy: 0.7434 - val_loss: 1.0298 - val_accuracy: 0.6408\n",
      "Epoch 98/100\n",
      "225/225 [==============================] - 28s 125ms/step - loss: 0.7155 - accuracy: 0.7402 - val_loss: 1.0433 - val_accuracy: 0.6378\n",
      "Epoch 99/100\n",
      "225/225 [==============================] - 28s 125ms/step - loss: 0.7126 - accuracy: 0.7427 - val_loss: 1.0534 - val_accuracy: 0.6287\n",
      "Epoch 100/100\n",
      "225/225 [==============================] - 29s 128ms/step - loss: 0.7014 - accuracy: 0.7456 - val_loss: 1.0340 - val_accuracy: 0.6375\n"
     ]
    },
    {
     "data": {
      "text/plain": [
       "<keras.callbacks.History at 0x287c31cc730>"
      ]
     },
     "execution_count": 34,
     "metadata": {},
     "output_type": "execute_result"
    }
   ],
   "source": [
    "model.fit(x= x_train,y = y_train, batch_size = 128, epochs = 100, validation_data = (x_test,y_test)) "
   ]
  },
  {
   "cell_type": "code",
   "execution_count": 35,
   "id": "e897089e-c0a1-44c7-9511-b3de0625cdc8",
   "metadata": {},
   "outputs": [],
   "source": [
    "model_json = model.to_json()\n",
    "with open(\"emotiondetector.json\",'w') as json_file:\n",
    "    json_file.write(model_json)\n",
    "model.save(\"emotiondetector.h5\")"
   ]
  },
  {
   "cell_type": "code",
   "execution_count": 36,
   "id": "a65598e0-b7c3-42c4-b7be-8cff270da32f",
   "metadata": {},
   "outputs": [],
   "source": [
    "from keras.models import model_from_json"
   ]
  },
  {
   "cell_type": "code",
   "execution_count": 48,
   "id": "bd193363-6f23-4de3-80d4-2a475dd5614f",
   "metadata": {},
   "outputs": [],
   "source": [
    "json_file = open(\"emotiondetector.json\", \"r\")\n",
    "model_json = json_file.read()\n",
    "json_file.close()\n",
    "model = model_from_json(model_json)\n",
    "model.load_weights(\"emotiondetector.h5\")"
   ]
  },
  {
   "cell_type": "code",
   "execution_count": 39,
   "id": "1b5ffe21-6b63-4b2b-bbb4-11568352ae3e",
   "metadata": {},
   "outputs": [],
   "source": [
    "label = ['angry','disgust','fear','happy','neutral','sad','surprise']"
   ]
  },
  {
   "cell_type": "code",
   "execution_count": 40,
   "id": "f90da69c-7b8f-4a5a-8041-b21210e4ed11",
   "metadata": {},
   "outputs": [],
   "source": [
    "def ef(image):\n",
    "    img = load_img(image,color_mode='grayscale')\n",
    "    feature = np.array(img)\n",
    "    feature = feature.reshape(1,48,48,1)\n",
    "    return feature/255.0\n",
    "    "
   ]
  },
  {
   "cell_type": "code",
   "execution_count": 41,
   "id": "02984ea0-6a26-4ffd-89ad-5e0c23bbcba1",
   "metadata": {},
   "outputs": [
    {
     "name": "stdout",
     "output_type": "stream",
     "text": [
      "original image is of sad\n",
      "model prediction is  sad\n"
     ]
    }
   ],
   "source": [
    "image = 'images/train/sad/Training_2611938.jpg'\n",
    "print(\"original image is of sad\")\n",
    "img = ef(image)\n",
    "pred = model.predict(img)\n",
    "pred_label = label[pred.argmax()]\n",
    "print(\"model prediction is \",pred_label)"
   ]
  },
  {
   "cell_type": "code",
   "execution_count": 42,
   "id": "b9720626-d422-4439-965f-8f2d8ac401ed",
   "metadata": {},
   "outputs": [],
   "source": [
    "import matplotlib.pyplot as plt\n",
    "%matplotlib inline"
   ]
  },
  {
   "cell_type": "code",
   "execution_count": 43,
   "id": "a3bd7ad3-64d3-485f-812c-265bd8a7ee15",
   "metadata": {},
   "outputs": [
    {
     "name": "stdout",
     "output_type": "stream",
     "text": [
      "original image is of sad\n",
      "model prediction is  sad\n"
     ]
    },
    {
     "data": {
      "text/plain": [
       "<matplotlib.image.AxesImage at 0x287c36f4100>"
      ]
     },
     "execution_count": 43,
     "metadata": {},
     "output_type": "execute_result"
    },
    {
     "data": {
      "image/png": "[encoded data removed]",
      "text/plain": [
       "<Figure size 640x480 with 1 Axes>"
      ]
     },
     "metadata": {},
     "output_type": "display_data"
    }
   ],
   "source": [
    "image = 'images/train/sad/Training_2611938.jpg'\n",
    "print(\"original image is of sad\")\n",
    "img = ef(image)\n",
    "pred = model.predict(img)\n",
    "pred_label = label[pred.argmax()]\n",
    "print(\"model prediction is \",pred_label)\n",
    "plt.imshow(img.reshape(48,48),cmap='gray')"
   ]
  },
  {
   "cell_type": "code",
   "execution_count": 44,
   "id": "21a638c7-bb65-4f2b-af33-955abb38d87d",
   "metadata": {},
   "outputs": [
    {
     "name": "stdout",
     "output_type": "stream",
     "text": [
      "original image is of fear\n",
      "model prediction is  fear\n"
     ]
    },
    {
     "data": {
      "text/plain": [
       "<matplotlib.image.AxesImage at 0x287c3741f00>"
      ]
     },
     "execution_count": 44,
     "metadata": {},
     "output_type": "execute_result"
    },
    {
     "data": {
      "image/png": "[encoded data removed]",
      "text/plain": [
       "<Figure size 640x480 with 1 Axes>"
      ]
     },
     "metadata": {},
     "output_type": "display_data"
    }
   ],
   "source": [
    "image = 'images/train/fear/Training_907677.jpg'\n",
    "print(\"original image is of fear\")\n",
    "img = ef(image)\n",
    "pred = model.predict(img)\n",
    "pred_label = label[pred.argmax()]\n",
    "print(\"model prediction is \",pred_label)\n",
    "plt.imshow(img.reshape(48,48),cmap='gray')"
   ]
  },
  {
   "cell_type": "code",
   "execution_count": 45,
   "id": "7855a406-c08a-416f-a30b-fcd00398f368",
   "metadata": {},
   "outputs": [
    {
     "name": "stdout",
     "output_type": "stream",
     "text": [
      "original image is of disgust\n",
      "model prediction is  disgust\n"
     ]
    },
    {
     "data": {
      "text/plain": [
       "<matplotlib.image.AxesImage at 0x287c3793d30>"
      ]
     },
     "execution_count": 45,
     "metadata": {},
     "output_type": "execute_result"
    },
    {
     "data": {
      "image/png": "[encoded data removed]",
      "text/plain": [
       "<Figure size 640x480 with 1 Axes>"
      ]
     },
     "metadata": {},
     "output_type": "display_data"
    }
   ],
   "source": [
    "image = 'images/train/disgust/Training_1070239.jpg'\n",
    "print(\"original image is of disgust\")\n",
    "img = ef(image)\n",
    "pred = model.predict(img)\n",
    "pred_label = label[pred.argmax()]\n",
    "print(\"model prediction is \",pred_label)\n",
    "plt.imshow(img.reshape(48,48),cmap='gray')"
   ]
  },
  {
   "cell_type": "code",
   "execution_count": 46,
   "id": "d248671f-771f-4156-aac0-3f8b1db7c5d1",
   "metadata": {},
   "outputs": [
    {
     "name": "stdout",
     "output_type": "stream",
     "text": [
      "original image is of happy\n",
      "model prediction is  happy\n"
     ]
    },
    {
     "data": {
      "text/plain": [
       "<matplotlib.image.AxesImage at 0x287c3939ae0>"
      ]
     },
     "execution_count": 46,
     "metadata": {},
     "output_type": "execute_result"
    },
    {
     "data": {
      "image/png": "[encoded data removed]",
      "text/plain": [
       "<Figure size 640x480 with 1 Axes>"
      ]
     },
     "metadata": {},
     "output_type": "display_data"
    }
   ],
   "source": [
    "image = 'images/train/happy/Training_535814.jpg'\n",
    "print(\"original image is of happy\")\n",
    "img = ef(image)\n",
    "pred = model.predict(img)\n",
    "pred_label = label[pred.argmax()]\n",
    "print(\"model prediction is \",pred_label)\n",
    "plt.imshow(img.reshape(48,48),cmap='gray')"
   ]
  },
  {
   "cell_type": "code",
   "execution_count": 47,
   "id": "1dded76f-089c-43d7-98f0-d4db2e14953b",
   "metadata": {},
   "outputs": [
    {
     "name": "stdout",
     "output_type": "stream",
     "text": [
      "original image is of surprise\n",
      "model prediction is  surprise\n"
     ]
    },
    {
     "data": {
      "text/plain": [
       "<matplotlib.image.AxesImage at 0x287c3993850>"
      ]
     },
     "execution_count": 47,
     "metadata": {},
     "output_type": "execute_result"
    },
    {
     "data": {
      "image/png": "[encoded data removed]",
      "text/plain": [
       "<Figure size 640x480 with 1 Axes>"
      ]
     },
     "metadata": {},
     "output_type": "display_data"
    }
   ],
   "source": [
    "image = 'images/train/surprise/Training_1075765.jpg'\n",
    "print(\"original image is of surprise\")\n",
    "img = ef(image)\n",
    "pred = model.predict(img)\n",
    "pred_label = label[pred.argmax()]\n",
    "print(\"model prediction is \",pred_label)\n",
    "plt.imshow(img.reshape(48,48),cmap='gray')"
   ]
  }
 ],
 "metadata": {
  "kernelspec": {
   "display_name": "Python 3",
   "language": "python",
   "name": "python3"
  },
  "language_info": {
   "codemirror_mode": {
    "name": "ipython",
    "version": 3
   },
   "file_extension": ".py",
   "mimetype": "text/x-python",
   "name": "python",
   "nbconvert_exporter": "python",
   "pygments_lexer": "ipython3",
   "version": "3.10.16"
  }
 },
 "nbformat": 4,
 "nbformat_minor": 5
}
